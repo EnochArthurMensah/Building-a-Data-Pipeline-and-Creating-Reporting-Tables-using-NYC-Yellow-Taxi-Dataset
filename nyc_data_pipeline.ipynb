{
 "cells": [
  {
   "cell_type": "markdown",
   "id": "dfb296e1",
   "metadata": {},
   "source": [
    "# NYC_Yellow_Taxi_Data_Pipeline\n"
   ]
  },
  {
   "cell_type": "code",
   "execution_count": 1,
   "id": "5aba2e31",
   "metadata": {},
   "outputs": [],
   "source": [
    "# importing the necessary libraries\n",
    "import pandas as pd\n",
    "from sqlalchemy import create_engine\n",
    "from datetime import datetime\n",
    "from time import time"
   ]
  },
  {
   "cell_type": "code",
   "execution_count": 2,
   "id": "3fe76797",
   "metadata": {},
   "outputs": [],
   "source": [
    "#  creating the database connection\n",
    "def connect(user,password,host,port,db_name):\n",
    "    '''establish connection with postgresql database'''\n",
    "    try:\n",
    "        engine=create_engine(f'postgresql://{user}:{password}@{host}:{port}/{db_name}')\n",
    "        engine.connect()\n",
    "    except Exception as e:\n",
    "        print(e)\n",
    "    else:\n",
    "        print('Successfully connected to the database')\n",
    "    return engine"
   ]
  },
  {
   "cell_type": "markdown",
   "id": "d20e2295",
   "metadata": {},
   "source": [
    "### Logging File "
   ]
  },
  {
   "cell_type": "code",
   "execution_count": 3,
   "id": "f3e4943c",
   "metadata": {},
   "outputs": [],
   "source": [
    "# time format\n",
    "date_format='%Y-%m-%d %H:%M:%S'\n",
    "current_time=datetime.now().strftime(date_format)"
   ]
  },
  {
   "cell_type": "code",
   "execution_count": 4,
   "id": "e775bd9d",
   "metadata": {},
   "outputs": [],
   "source": [
    "def log(message):\n",
    "    with open('log.txt', 'a') as file:\n",
    "        file.write(message)"
   ]
  },
  {
   "cell_type": "markdown",
   "id": "5979fa85",
   "metadata": {},
   "source": [
    "## Data Ingestion and Preparation"
   ]
  },
  {
   "cell_type": "code",
   "execution_count": 5,
   "id": "7eb9f230",
   "metadata": {},
   "outputs": [],
   "source": [
    "# Extract dataset\n",
    "def extract(chunk=100000):\n",
    "    '''extraction of dataset in chunks'''\n",
    "    try:\n",
    "        path=%pwd\n",
    "        filepath=f'{path}\\\\yellow_tripdata_2016-02.csv'\n",
    "        dataframe=pd.read_csv(filepath,chunksize=chunk)\n",
    "    except Exception as e:\n",
    "        print(e)\n",
    "    return dataframe\n"
   ]
  },
  {
   "cell_type": "code",
   "execution_count": 6,
   "id": "40265a4e",
   "metadata": {},
   "outputs": [],
   "source": [
    "# transform dataset\n",
    "def transform(dataframe):\n",
    "    '''converting dtype for tpep_pickup_datetime and tpep_dropoff_datetime to datetime64'''\n",
    "    try:\n",
    "        dataframe['tpep_pickup_datetime']=pd.to_datetime(dataframe['tpep_pickup_datetime'])\n",
    "        dataframe['tpep_dropoff_datetime']=pd.to_datetime(dataframe['tpep_dropoff_datetime'])\n",
    "    except Exception as e:\n",
    "        print(e)"
   ]
  },
  {
   "cell_type": "code",
   "execution_count": 7,
   "id": "e17eaf5f",
   "metadata": {},
   "outputs": [
    {
     "name": "stdout",
     "output_type": "stream",
     "text": [
      "Successfully connected to the database\n"
     ]
    }
   ],
   "source": [
    "# ingestion\n",
    "engine=connect()\n",
    "def ingestion(dataframe):\n",
    "    '''Ingestion of dataset into the database'''\n",
    "    dataframe.to_sql(name='nyc_yellow_taxi', con=engine, if_exists='append',index=False)"
   ]
  },
  {
   "cell_type": "code",
   "execution_count": 8,
   "id": "a1661bbf",
   "metadata": {},
   "outputs": [],
   "source": [
    "# loading into the postgre database\n",
    "def load(chunk,batch=10):\n",
    "    \"loading of datasets into the database\"\n",
    "    message=f'\\n{current_time}\\t{chunk*batch:,} of NYC Yellow Taxi Trip datasets to be loaded.\\n\\n\\n'\n",
    "    log(message)\n",
    "    try:\n",
    "        log(message=130*\"-\"+\"\\n\")\n",
    "        message=f'|\\tBatch\\t| Data Loaded \\t| Remaining Data  |\\t Start Time \\t|\\t End Time \\t|\\t Time Spent(seconds) \\t|\\n'\n",
    "        log(message)\n",
    "        log(message=130*\"-\"+\"\\n\")\n",
    "        count=1\n",
    "        data=extract()\n",
    "        overall_start_time=time()\n",
    "        for dataframe in data:\n",
    "            if count>batch:\n",
    "                break;\n",
    "            else:\n",
    "                start_time=datetime.now().strftime(\"%H:%M:%S\")\n",
    "                transform(dataframe)\n",
    "                ingestion(dataframe)\n",
    "                \n",
    "            end_time=datetime.now().strftime(\"%H:%M:%S\")\n",
    "            time_difference=datetime.strptime(end_time,'%H:%M:%S')-datetime.strptime(start_time,'%H:%M:%S')\n",
    "            message=f'|\\t {count} \\t|\\t {count*chunk:,} \\t|\\t {(batch-count)*chunk:,} \\t|\\t {start_time} \\t|\\t {end_time} \\t|\\t {time_difference.total_seconds()}  \\t|\\n'\n",
    "            log(message)\n",
    "            log(message=124*\"-\"+\"\\n\")\n",
    "            count+=1\n",
    "    except Exception as e:\n",
    "        message=f'\\n{current_time}\\t An error occurred:{e}'\n",
    "        log(message)\n",
    "    else:\n",
    "        message=f'\\n{current_time}\\t{chunk*batch:,} of datasets have been successfully loaded in {((time()-overall_start_time)/60):3f} minutes.\\n'\n",
    "        log(message)"
   ]
  },
  {
   "cell_type": "code",
   "execution_count": 9,
   "id": "c0617fdd",
   "metadata": {},
   "outputs": [],
   "source": [
    "load(100000)"
   ]
  },
  {
   "cell_type": "markdown",
   "id": "caeb611e",
   "metadata": {},
   "source": [
    "## Building Reporting Pipelines"
   ]
  },
  {
   "cell_type": "markdown",
   "id": "0ebaf23e",
   "metadata": {
    "scrolled": true
   },
   "source": [
    "## operations_and_performance"
   ]
  },
  {
   "cell_type": "code",
   "execution_count": 10,
   "id": "1bb07a23",
   "metadata": {},
   "outputs": [
    {
     "name": "stdout",
     "output_type": "stream",
     "text": [
      "Operations and performance reporting table generated\n"
     ]
    }
   ],
   "source": [
    "try:\n",
    "    reporting='''\n",
    "    --How many trips were recorded in the dataset\n",
    "    \n",
    "    SELECT CURRENT_DATE AS ingestion_date, * FROM \n",
    "\n",
    "        (SELECT total_trips FROM\n",
    "\n",
    "            (SELECT COUNT (*) AS total_trips FROM nyc_yellow_taxi) AS records) AS a,\n",
    "  \n",
    "    --What is the average trip distance for all trips\n",
    "\n",
    "        (SELECT avg_trip_distance FROM\n",
    "            (SELECT AVG(trip_distance) AS avg_trip_distance from nyc_yellow_taxi) as avg_distance) AS b,\n",
    "            \n",
    "    --Which Vendor has the highest number of trips\n",
    "\n",
    "        (SELECT highest_trip_vendor  FROM\n",
    "            (SELECT \n",
    "                (CASE\n",
    "                    WHEN \"VendorID\"= 1 THEN 'Creative Mobile Technologies'\n",
    "                    ELSE 'VeriFone Inc.'\n",
    "                END) AS highest_trip_vendor, \n",
    "            count(*) AS trip_number FROM nyc_yellow_taxi\n",
    "            GROUP BY  highest_trip_vendor \n",
    "            ORDER BY 2 DESC\n",
    "            LIMIT 1) AS trip_vendor) AS c ,\n",
    "            \n",
    "    --Which Vendor has the lowest number of trips\n",
    "\n",
    "        (SELECT lowest_trip_vendor  FROM\n",
    "            (SELECT \n",
    "                (CASE\n",
    "                    WHEN \"VendorID\"= 1 THEN 'Creative Mobile Technologies'\n",
    "                    ELSE 'VeriFone Inc.'\n",
    "                END) AS lowest_trip_vendor, \n",
    "            count(*) AS trip_number FROM nyc_yellow_taxi\n",
    "            GROUP BY  lowest_trip_vendor \n",
    "            ORDER BY 2 ASC\n",
    "            LIMIT 1) AS trip_vendor) AS d ,\n",
    "            \n",
    "    --What is the average passenger count per trip\n",
    "\n",
    "        (SELECT avg_passenger_count FROM\n",
    "            (SELECT round(AVG(passenger_count),0) as avg_passenger_count from nyc_yellow_taxi) AS passenger) AS e;\n",
    "    '''\n",
    "    \n",
    "    df_OP=pd.read_sql(reporting,con=engine)\n",
    "    \n",
    "except Exception as e:\n",
    "    print(e)\n",
    "        \n",
    "else:\n",
    "    df_OP.to_sql('op_and_perf_rpt', con=engine, if_exists='append',index=False)\n",
    "    print('Operations and performance reporting table generated')"
   ]
  },
  {
   "cell_type": "markdown",
   "id": "ea2c61d9",
   "metadata": {},
   "source": [
    "## customer_demographics_and_preferences"
   ]
  },
  {
   "cell_type": "code",
   "execution_count": 11,
   "id": "112f2fde",
   "metadata": {},
   "outputs": [
    {
     "name": "stdout",
     "output_type": "stream",
     "text": [
      "Customer, Demographics and Preferences reporting table generated\n"
     ]
    }
   ],
   "source": [
    "try:\n",
    "    reporting='''\n",
    "    --What is the average trip amount given by passengers\n",
    "    \n",
    "    SELECT CURRENT_DATE AS ingestion_date,* FROM\n",
    "        (SELECT avg_tip_amount FROM \n",
    "            (SELECT AVG(tip_amount) as avg_tip_amount FROM nyc_yellow_taxi) AS tip_amount) AS a,\n",
    "\n",
    "    --What is the average trip distance by passengers\n",
    "\n",
    "        (SELECT avg_trip_distance_by_passenger FROM\n",
    "            (SELECT AVG(trip_distance) as avg_trip_distance_by_passenger FROM nyc_yellow_taxi) \n",
    "            AS trip_distance_by_passenger) AS b,\n",
    "            \n",
    "    --How many trips were flagged as 'store and forward'\n",
    "\n",
    "        (SELECT store_and_forward_trips FROM\n",
    "            (SELECT COUNT(*) AS store_and_forward_trips\n",
    "            FROM nyc_yellow_taxi\n",
    "            WHERE store_and_fwd_flag <> 'N') AS store_and_forward) AS c,\n",
    "    \n",
    "    --How many trips were shared rides (passenger count > 1)\n",
    "    \n",
    "    (SELECT shared_ride_count FROM\n",
    "            (SELECT COUNT(*) AS shared_ride_count\n",
    "            FROM nyc_yellow_taxi\n",
    "            WHERE passenger_count > 1 \n",
    "            AND trip_distance>0) AS shared_ride) AS d;\n",
    "    '''\n",
    "\n",
    "    df_CDP=pd.read_sql(reporting,con=engine)\n",
    "    \n",
    "except Exception as e:\n",
    "    print(e)\n",
    "    \n",
    "else:\n",
    "    df_CDP.to_sql('cust_demograf_pref', con=engine, if_exists='append',index=False)\n",
    "    print('Customer, Demographics and Preferences reporting table generated')"
   ]
  },
  {
   "cell_type": "markdown",
   "id": "4d0293f8",
   "metadata": {},
   "source": [
    "## financial_performance_and_trends"
   ]
  },
  {
   "cell_type": "code",
   "execution_count": 12,
   "id": "345f6d66",
   "metadata": {},
   "outputs": [
    {
     "name": "stdout",
     "output_type": "stream",
     "text": [
      "Financial Performance reporting table generated\n"
     ]
    }
   ],
   "source": [
    "try:\n",
    "    reporting='''\n",
    "    \n",
    "    --What is the average fare amount per trip\n",
    "    \n",
    "    SELECT CURRENT_DATE AS ingestion_date, * FROM \n",
    "        (SELECT avg_fare_amount FROM \n",
    "            (SELECT AVG(fare_amount) as avg_fare_amount FROM nyc_yellow_taxi) AS fare_amount) AS a,\n",
    "            \n",
    "    --How much revenue was generated from tolls and surcharges combined\n",
    "    \n",
    "        (SELECT tolls_and_surcharges_revenue FROM\n",
    "            (SELECT (sum(tolls_amount+improvement_surcharge)) as tolls_and_surcharges_revenue\n",
    "            FROM nyc_yellow_taxi) AS total_tolls_and_surcharges_revenue) AS b,\n",
    "            \n",
    "    --What is the average total amount paid by passengers\n",
    "    \n",
    "        (SELECT avg_total_amount FROM\n",
    "            (SELECT AVG(total_amount) as avg_total_amount\n",
    "            FROM nyc_yellow_taxi) AS total_amount) AS c;\n",
    "    '''\n",
    "\n",
    "    finan_perf=pd.read_sql(reporting,con=engine)\n",
    "\n",
    "except Exception as e:\n",
    "    print(e)\n",
    "    \n",
    "else:\n",
    "    finan_perf.to_sql('financial_perf',con=engine,if_exists='append',index=False)\n",
    "    print('Financial Performance reporting table generated')"
   ]
  },
  {
   "cell_type": "code",
   "execution_count": null,
   "id": "5ba784a3",
   "metadata": {},
   "outputs": [],
   "source": []
  }
 ],
 "metadata": {
  "kernelspec": {
   "display_name": "Python 3 (ipykernel)",
   "language": "python",
   "name": "python3"
  },
  "language_info": {
   "codemirror_mode": {
    "name": "ipython",
    "version": 3
   },
   "file_extension": ".py",
   "mimetype": "text/x-python",
   "name": "python",
   "nbconvert_exporter": "python",
   "pygments_lexer": "ipython3",
   "version": "3.11.4"
  }
 },
 "nbformat": 4,
 "nbformat_minor": 5
}
